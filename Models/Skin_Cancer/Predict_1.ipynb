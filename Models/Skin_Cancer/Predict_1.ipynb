{
 "cells": [
  {
   "cell_type": "code",
   "execution_count": 17,
   "id": "638f3df5",
   "metadata": {},
   "outputs": [],
   "source": [
    "# Skin Cancer Predictor\n",
    "\n",
    "data_dir = './'\n",
    "\n",
    "import numpy as np\n",
    "import pandas as pd\n",
    "import cv2\n",
    "import matplotlib.pyplot as plt\n",
    "import seaborn as sns\n",
    "import torch\n",
    "import json\n",
    "import os\n",
    "from torchvision.io import read_image\n",
    "from PIL import Image\n",
    "import yaml\n",
    "\n",
    "import yaml\n",
    "import numpy as np   # linear algebra\n",
    "import pandas as pd  # data processing, CSV file I/O (e.g. pd.read_csv)\n",
    "import os\n",
    "import torch\n",
    "import torchvision\n",
    "import matplotlib.pyplot as plt\n",
    "import seaborn as sns\n",
    "import torch.nn as nn\n",
    "from torch.utils.data import Dataset, DataLoader\n",
    "import torchvision.transforms as transforms\n",
    "from torchvision import datasets,models\n",
    "import math\n",
    "import torch.optim as optim\n",
    "from torch.optim import lr_scheduler\n",
    "import copy\n",
    "import time\n",
    "from PIL import Image\n",
    "from datetime import datetime\n",
    "\n",
    "# Get configs from config file\n",
    "stream = open(\"config.yaml\", 'r')\n",
    "config_dict = yaml.safe_load(stream)\n",
    "batch_size = config_dict['batch_size']\n",
    "learning_rate = config_dict['lr']\n",
    "model_pth = config_dict['model_pth']\n",
    "train_data = config_dict['train_data']\n",
    "valid_data = config_dict['valid_data']\n",
    "test_data = config_dict['test_data']"
   ]
  },
  {
   "cell_type": "code",
   "execution_count": 18,
   "id": "019054d6",
   "metadata": {},
   "outputs": [],
   "source": [
    "normalize = transforms.Normalize(mean=[0.485, 0.456, 0.406], std=[0.229, 0.224, 0.225])\n",
    "data_transforms = {\n",
    "    'train': transforms.Compose([\n",
    "        transforms.Resize((230, 230)),\n",
    "        transforms.RandomRotation(30,),\n",
    "        transforms.RandomCrop(224),\n",
    "        transforms.RandomHorizontalFlip(),\n",
    "        transforms.RandomVerticalFlip(),\n",
    "        transforms.ToTensor(),\n",
    "        normalize\n",
    "    ]),\n",
    "    'valid': transforms.Compose([\n",
    "        transforms.Resize((400, 400)),\n",
    "        transforms.CenterCrop((224, 224)),\n",
    "        transforms.ToTensor(),\n",
    "        normalize\n",
    "    ]),\n",
    "    'test': transforms.Compose([\n",
    "        transforms.Resize((224, 224)),\n",
    "        transforms.ToTensor(),\n",
    "        normalize\n",
    "    ]),\n",
    "}"
   ]
  },
  {
   "cell_type": "code",
   "execution_count": 19,
   "id": "7e996680",
   "metadata": {},
   "outputs": [],
   "source": [
    "def pil_loader(path):\n",
    "    with open(path, 'rb') as f:\n",
    "        img = Image.open(f)\n",
    "        return img.convert('RGB')"
   ]
  },
  {
   "cell_type": "code",
   "execution_count": 20,
   "id": "101af9fc",
   "metadata": {},
   "outputs": [],
   "source": [
    "# Class for loading test dataset\n",
    "class TestDataset(torch.utils.data.Dataset):\n",
    "    def __init__(self, path, transform=None):\n",
    "        self.path = path\n",
    "        self.transform = transform\n",
    "\n",
    "    def __len__(self):\n",
    "        return 1\n",
    "\n",
    "    def __getitem__(self, idx):\n",
    "        img_path = self.path\n",
    "        image = pil_loader(img_path)\n",
    "        if self.transform:\n",
    "            image = self.transform(image)\n",
    "        \n",
    "        return image, 0"
   ]
  },
  {
   "cell_type": "code",
   "execution_count": 33,
   "id": "9d18b612",
   "metadata": {},
   "outputs": [],
   "source": [
    "# \n",
    "\n",
    "def idx_to_class(indices):\n",
    "    indices = indices[0]\n",
    "    classes  = []\n",
    "    for index in indices:\n",
    "        \n",
    "        if index==0:\n",
    "            classes.append('benign')\n",
    "        else:\n",
    "            classes.append(\"malignant\")\n",
    "    return classes"
   ]
  },
  {
   "cell_type": "code",
   "execution_count": 25,
   "id": "278ada37",
   "metadata": {},
   "outputs": [],
   "source": [
    "\n",
    "\n",
    "class Flattener(nn.Module):\n",
    "    def forward(self, x):\n",
    "        batch_size, *_ = x.shape\n",
    "        return x.view(batch_size, -1)\n",
    "\n"
   ]
  },
  {
   "cell_type": "code",
   "execution_count": 27,
   "id": "2c7e7b6e",
   "metadata": {},
   "outputs": [],
   "source": [
    "def predict(model_path, dataloader, print_progress=False):\n",
    "\n",
    "    \"\"\"\n",
    "\n",
    "    :param model_path: Path of Model used for prediction\n",
    "    :param dataloader: Test DataLoader\n",
    "    :param print_progress: Prints progress if True\n",
    "    :return: Prediction(as a list) on test folder defined by config file\n",
    "    \"\"\"\n",
    "\n",
    "    model = torch.load(model_path)\n",
    "    device = torch.device(\"cuda\" if torch.cuda.is_available() else \"cpu\")\n",
    "\n",
    "    model.to(device)\n",
    "    model.eval()\n",
    "\n",
    "    predictions = {}\n",
    "    with torch.no_grad():\n",
    "        for ii, (images,_) in enumerate(dataloader, start=1):\n",
    "\n",
    "            if print_progress:\n",
    "                if ii % 5 == 0:\n",
    "                    print('Batch {}/{}'.format(ii, len(dataloader)))\n",
    "            \n",
    "            images = images.to(device)\n",
    "            \n",
    "            logps = model(images)\n",
    "            ps = torch.exp(logps)\n",
    "\n",
    "            # Top indices\n",
    "            _, top_indices = ps.topk(1)\n",
    "            top_indices = top_indices.detach().cpu().numpy().tolist()\n",
    "            #print(top_indices)\n",
    "            # Convert indices to classes\n",
    "            top_classes = idx_to_class(top_indices)\n",
    "            # print(\"Img:\" ,img_names)\n",
    "            #for i, img_name in enumerate(img_names):\n",
    "                #predictions[img_name] = top_classes[i]\n",
    "\n",
    "        #print('\\nPrediction Generation Completed')\n",
    "\n",
    "    return top_classes\n"
   ]
  },
  {
   "cell_type": "code",
   "execution_count": 28,
   "id": "37be8473",
   "metadata": {},
   "outputs": [
    {
     "name": "stderr",
     "output_type": "stream",
     "text": [
      "c:\\users\\av192\\appdata\\local\\programs\\python\\python39\\lib\\site-packages\\torch\\serialization.py:671: SourceChangeWarning: source code of class 'torch.nn.modules.linear.Linear' has changed. you can retrieve the original source code by accessing the object's source attribute or set `torch.nn.Module.dump_patches = True` and use the patch tool to revert the changes.\n",
      "  warnings.warn(msg, SourceChangeWarning)\n"
     ]
    }
   ],
   "source": [
    "#model_path = data_dir + os.path.join(model_pth,'dense121.h5')\n",
    "model_path = \"D:\\Xview2\\Jeevan_Data_Hackfest'22\\Skin_Cancer\\Models\\85acc.pth\"\n",
    "test_dataset = TestDataset(\"./100.jpg\",data_transforms['test'])\n",
    "test_loader = torch.utils.data.DataLoader(test_dataset, batch_size=batch_size, shuffle=False)\n",
    "\n",
    "pre = predict(model_path,test_loader)"
   ]
  },
  {
   "cell_type": "code",
   "execution_count": 29,
   "id": "60c23bef",
   "metadata": {},
   "outputs": [
    {
     "data": {
      "text/plain": [
       "['Mal']"
      ]
     },
     "execution_count": 29,
     "metadata": {},
     "output_type": "execute_result"
    }
   ],
   "source": [
    "pre"
   ]
  },
  {
   "cell_type": "code",
   "execution_count": 31,
   "id": "3dc34fbd",
   "metadata": {},
   "outputs": [],
   "source": [
    "import joblib\n",
    "kl = joblib.load('./Models/class.pkl')"
   ]
  },
  {
   "cell_type": "code",
   "execution_count": 23,
   "id": "54239a4a",
   "metadata": {},
   "outputs": [
    {
     "data": {
      "text/plain": [
       "['.ipynb_checkpoints', '100.jpg', 'config.yaml', 'Models', 'Predict_1.ipynb']"
      ]
     },
     "execution_count": 23,
     "metadata": {},
     "output_type": "execute_result"
    }
   ],
   "source": [
    "os.listdir('./')"
   ]
  },
  {
   "cell_type": "code",
   "execution_count": 32,
   "id": "9411b7b3",
   "metadata": {},
   "outputs": [
    {
     "data": {
      "text/plain": [
       "{'benign': 0, 'malignant': 1}"
      ]
     },
     "execution_count": 32,
     "metadata": {},
     "output_type": "execute_result"
    }
   ],
   "source": [
    "kl"
   ]
  },
  {
   "cell_type": "code",
   "execution_count": null,
   "id": "6aa8a2da",
   "metadata": {},
   "outputs": [],
   "source": []
  },
  {
   "cell_type": "code",
   "execution_count": null,
   "id": "02ec3502",
   "metadata": {},
   "outputs": [],
   "source": []
  },
  {
   "cell_type": "code",
   "execution_count": null,
   "id": "cce3b324",
   "metadata": {},
   "outputs": [],
   "source": []
  },
  {
   "cell_type": "code",
   "execution_count": null,
   "id": "ee8fa62c",
   "metadata": {},
   "outputs": [],
   "source": []
  },
  {
   "cell_type": "code",
   "execution_count": null,
   "id": "9d02fcee",
   "metadata": {},
   "outputs": [],
   "source": []
  }
 ],
 "metadata": {
  "kernelspec": {
   "display_name": "Python 3",
   "language": "python",
   "name": "python3"
  },
  "language_info": {
   "codemirror_mode": {
    "name": "ipython",
    "version": 3
   },
   "file_extension": ".py",
   "mimetype": "text/x-python",
   "name": "python",
   "nbconvert_exporter": "python",
   "pygments_lexer": "ipython3",
   "version": "3.9.0"
  }
 },
 "nbformat": 4,
 "nbformat_minor": 5
}
